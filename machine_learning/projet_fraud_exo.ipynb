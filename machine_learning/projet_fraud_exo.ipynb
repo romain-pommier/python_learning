{
 "cells": [
  {
   "cell_type": "markdown",
   "metadata": {},
   "source": [
    "# Projet Fraude \n",
    "\n"
   ]
  },
  {
   "cell_type": "code",
   "execution_count": 50,
   "metadata": {},
   "outputs": [],
   "source": [
    "#importer vos lib\n",
    "import pandas as pd \n",
    "import numpy as np\n",
    "import matplotlib.pyplot as plt\n",
    "import scipy as scipy\n",
    "from datetime import datetime\n",
    "from sklearn import preprocessing\n",
    "from sklearn.metrics import classification_report\n",
    "from sklearn.ensemble import RandomForestClassifier\n",
    "from sklearn.model_selection import train_test_split\n",
    "from sklearn.preprocessing import StandardScaler\n",
    "from sklearn.neighbors import KNeighborsClassifier\n",
    "from sklearn.metrics import confusion_matrix\n",
    "from sklearn.metrics import accuracy_score\n",
    "from sklearn.neighbors import DistanceMetric\n",
    "from time import perf_counter \n",
    "import warnings\n",
    "warnings.simplefilter(action='ignore')\n",
    "\n",
    "dFraud = pd.read_csv('./DATA/Fraud_Data.csv')\n",
    "dIp = pd.read_csv('./DATA/IpAddress_to_Country.csv')\n"
   ]
  },
  {
   "cell_type": "code",
   "execution_count": 33,
   "metadata": {},
   "outputs": [
    {
     "output_type": "execute_result",
     "data": {
      "text/plain": [
       "   user_id         signup_time       purchase_time  purchase_value  \\\n",
       "0    22058 2015-02-24 22:55:49 2015-04-18 02:47:11              34   \n",
       "1   333320 2015-06-07 20:39:50 2015-06-08 01:38:54              16   \n",
       "2     1359 2015-01-01 18:52:44 2015-01-01 18:52:45              15   \n",
       "3   150084 2015-04-28 21:13:25 2015-05-04 13:54:50              44   \n",
       "4   221365 2015-07-21 07:09:52 2015-09-09 18:40:53              39   \n",
       "\n",
       "       device_id source browser sex  age    ip_address  class  device_num  \\\n",
       "0  QVPSPJUOCKZAR    SEO  Chrome   M   39  7.327584e+08      0           1   \n",
       "1  EOGFQPIZPYXFZ    Ads  Chrome   F   53  3.503114e+08      0           1   \n",
       "2  YSSKYOSJHPPLJ    SEO   Opera   M   53  2.621474e+09      1          12   \n",
       "3  ATGTXKYKUDUQN    SEO  Safari   M   41  3.840542e+09      0           1   \n",
       "4  NAUITBZFJKHWW    Ads  Safari   M   45  4.155831e+08      0           1   \n",
       "\n",
       "   signup_day  signup_week  purchase_day  purchase_week  ip_num        country  \n",
       "0           1            9             5             16       1          Japan  \n",
       "1           6           23             0             24       1  United States  \n",
       "2           3            1             3              1      12  United States  \n",
       "3           1           18             0             19       1           NULL  \n",
       "4           1           30             2             37       1  United States  "
      ],
      "text/html": "<div>\n<style scoped>\n    .dataframe tbody tr th:only-of-type {\n        vertical-align: middle;\n    }\n\n    .dataframe tbody tr th {\n        vertical-align: top;\n    }\n\n    .dataframe thead th {\n        text-align: right;\n    }\n</style>\n<table border=\"1\" class=\"dataframe\">\n  <thead>\n    <tr style=\"text-align: right;\">\n      <th></th>\n      <th>user_id</th>\n      <th>signup_time</th>\n      <th>purchase_time</th>\n      <th>purchase_value</th>\n      <th>device_id</th>\n      <th>source</th>\n      <th>browser</th>\n      <th>sex</th>\n      <th>age</th>\n      <th>ip_address</th>\n      <th>class</th>\n      <th>device_num</th>\n      <th>signup_day</th>\n      <th>signup_week</th>\n      <th>purchase_day</th>\n      <th>purchase_week</th>\n      <th>ip_num</th>\n      <th>country</th>\n    </tr>\n  </thead>\n  <tbody>\n    <tr>\n      <th>0</th>\n      <td>22058</td>\n      <td>2015-02-24 22:55:49</td>\n      <td>2015-04-18 02:47:11</td>\n      <td>34</td>\n      <td>QVPSPJUOCKZAR</td>\n      <td>SEO</td>\n      <td>Chrome</td>\n      <td>M</td>\n      <td>39</td>\n      <td>7.327584e+08</td>\n      <td>0</td>\n      <td>1</td>\n      <td>1</td>\n      <td>9</td>\n      <td>5</td>\n      <td>16</td>\n      <td>1</td>\n      <td>Japan</td>\n    </tr>\n    <tr>\n      <th>1</th>\n      <td>333320</td>\n      <td>2015-06-07 20:39:50</td>\n      <td>2015-06-08 01:38:54</td>\n      <td>16</td>\n      <td>EOGFQPIZPYXFZ</td>\n      <td>Ads</td>\n      <td>Chrome</td>\n      <td>F</td>\n      <td>53</td>\n      <td>3.503114e+08</td>\n      <td>0</td>\n      <td>1</td>\n      <td>6</td>\n      <td>23</td>\n      <td>0</td>\n      <td>24</td>\n      <td>1</td>\n      <td>United States</td>\n    </tr>\n    <tr>\n      <th>2</th>\n      <td>1359</td>\n      <td>2015-01-01 18:52:44</td>\n      <td>2015-01-01 18:52:45</td>\n      <td>15</td>\n      <td>YSSKYOSJHPPLJ</td>\n      <td>SEO</td>\n      <td>Opera</td>\n      <td>M</td>\n      <td>53</td>\n      <td>2.621474e+09</td>\n      <td>1</td>\n      <td>12</td>\n      <td>3</td>\n      <td>1</td>\n      <td>3</td>\n      <td>1</td>\n      <td>12</td>\n      <td>United States</td>\n    </tr>\n    <tr>\n      <th>3</th>\n      <td>150084</td>\n      <td>2015-04-28 21:13:25</td>\n      <td>2015-05-04 13:54:50</td>\n      <td>44</td>\n      <td>ATGTXKYKUDUQN</td>\n      <td>SEO</td>\n      <td>Safari</td>\n      <td>M</td>\n      <td>41</td>\n      <td>3.840542e+09</td>\n      <td>0</td>\n      <td>1</td>\n      <td>1</td>\n      <td>18</td>\n      <td>0</td>\n      <td>19</td>\n      <td>1</td>\n      <td>NULL</td>\n    </tr>\n    <tr>\n      <th>4</th>\n      <td>221365</td>\n      <td>2015-07-21 07:09:52</td>\n      <td>2015-09-09 18:40:53</td>\n      <td>39</td>\n      <td>NAUITBZFJKHWW</td>\n      <td>Ads</td>\n      <td>Safari</td>\n      <td>M</td>\n      <td>45</td>\n      <td>4.155831e+08</td>\n      <td>0</td>\n      <td>1</td>\n      <td>1</td>\n      <td>30</td>\n      <td>2</td>\n      <td>37</td>\n      <td>1</td>\n      <td>United States</td>\n    </tr>\n  </tbody>\n</table>\n</div>"
     },
     "metadata": {},
     "execution_count": 33
    }
   ],
   "source": [
    "dFraud.head()\n"
   ]
  },
  {
   "cell_type": "code",
   "execution_count": 36,
   "metadata": {},
   "outputs": [
    {
     "output_type": "execute_result",
     "data": {
      "text/plain": [
       "   lower_bound_ip_address  upper_bound_ip_address    country\n",
       "0              16777216.0                16777471  Australia\n",
       "1              16777472.0                16777727      China\n",
       "2              16777728.0                16778239      China\n",
       "3              16778240.0                16779263  Australia\n",
       "4              16779264.0                16781311      China"
      ],
      "text/html": "<div>\n<style scoped>\n    .dataframe tbody tr th:only-of-type {\n        vertical-align: middle;\n    }\n\n    .dataframe tbody tr th {\n        vertical-align: top;\n    }\n\n    .dataframe thead th {\n        text-align: right;\n    }\n</style>\n<table border=\"1\" class=\"dataframe\">\n  <thead>\n    <tr style=\"text-align: right;\">\n      <th></th>\n      <th>lower_bound_ip_address</th>\n      <th>upper_bound_ip_address</th>\n      <th>country</th>\n    </tr>\n  </thead>\n  <tbody>\n    <tr>\n      <th>0</th>\n      <td>16777216.0</td>\n      <td>16777471</td>\n      <td>Australia</td>\n    </tr>\n    <tr>\n      <th>1</th>\n      <td>16777472.0</td>\n      <td>16777727</td>\n      <td>China</td>\n    </tr>\n    <tr>\n      <th>2</th>\n      <td>16777728.0</td>\n      <td>16778239</td>\n      <td>China</td>\n    </tr>\n    <tr>\n      <th>3</th>\n      <td>16778240.0</td>\n      <td>16779263</td>\n      <td>Australia</td>\n    </tr>\n    <tr>\n      <th>4</th>\n      <td>16779264.0</td>\n      <td>16781311</td>\n      <td>China</td>\n    </tr>\n  </tbody>\n</table>\n</div>"
     },
     "metadata": {},
     "execution_count": 36
    }
   ],
   "source": [
    "dIp.head()"
   ]
  },
  {
   "cell_type": "code",
   "execution_count": 35,
   "metadata": {
    "tags": []
   },
   "outputs": [
    {
     "output_type": "execute_result",
     "data": {
      "text/plain": [
       "   user_id         signup_time       purchase_time  purchase_value  \\\n",
       "0    22058 2015-02-24 22:55:49 2015-04-18 02:47:11              34   \n",
       "1   333320 2015-06-07 20:39:50 2015-06-08 01:38:54              16   \n",
       "2     1359 2015-01-01 18:52:44 2015-01-01 18:52:45              15   \n",
       "3   150084 2015-04-28 21:13:25 2015-05-04 13:54:50              44   \n",
       "4   221365 2015-07-21 07:09:52 2015-09-09 18:40:53              39   \n",
       "\n",
       "       device_id source browser sex  age    ip_address  class  device_num  \\\n",
       "0  QVPSPJUOCKZAR    SEO  Chrome   M   39  7.327584e+08      0           1   \n",
       "1  EOGFQPIZPYXFZ    Ads  Chrome   F   53  3.503114e+08      0           1   \n",
       "2  YSSKYOSJHPPLJ    SEO   Opera   M   53  2.621474e+09      1          12   \n",
       "3  ATGTXKYKUDUQN    SEO  Safari   M   41  3.840542e+09      0           1   \n",
       "4  NAUITBZFJKHWW    Ads  Safari   M   45  4.155831e+08      0           1   \n",
       "\n",
       "   signup_day  signup_week  purchase_day  purchase_week  ip_num        country  \n",
       "0           1            9             5             16       1          Japan  \n",
       "1           6           23             0             24       1  United States  \n",
       "2           3            1             3              1      12  United States  \n",
       "3           1           18             0             19       1           NULL  \n",
       "4           1           30             2             37       1  United States  "
      ],
      "text/html": "<div>\n<style scoped>\n    .dataframe tbody tr th:only-of-type {\n        vertical-align: middle;\n    }\n\n    .dataframe tbody tr th {\n        vertical-align: top;\n    }\n\n    .dataframe thead th {\n        text-align: right;\n    }\n</style>\n<table border=\"1\" class=\"dataframe\">\n  <thead>\n    <tr style=\"text-align: right;\">\n      <th></th>\n      <th>user_id</th>\n      <th>signup_time</th>\n      <th>purchase_time</th>\n      <th>purchase_value</th>\n      <th>device_id</th>\n      <th>source</th>\n      <th>browser</th>\n      <th>sex</th>\n      <th>age</th>\n      <th>ip_address</th>\n      <th>class</th>\n      <th>device_num</th>\n      <th>signup_day</th>\n      <th>signup_week</th>\n      <th>purchase_day</th>\n      <th>purchase_week</th>\n      <th>ip_num</th>\n      <th>country</th>\n    </tr>\n  </thead>\n  <tbody>\n    <tr>\n      <th>0</th>\n      <td>22058</td>\n      <td>2015-02-24 22:55:49</td>\n      <td>2015-04-18 02:47:11</td>\n      <td>34</td>\n      <td>QVPSPJUOCKZAR</td>\n      <td>SEO</td>\n      <td>Chrome</td>\n      <td>M</td>\n      <td>39</td>\n      <td>7.327584e+08</td>\n      <td>0</td>\n      <td>1</td>\n      <td>1</td>\n      <td>9</td>\n      <td>5</td>\n      <td>16</td>\n      <td>1</td>\n      <td>Japan</td>\n    </tr>\n    <tr>\n      <th>1</th>\n      <td>333320</td>\n      <td>2015-06-07 20:39:50</td>\n      <td>2015-06-08 01:38:54</td>\n      <td>16</td>\n      <td>EOGFQPIZPYXFZ</td>\n      <td>Ads</td>\n      <td>Chrome</td>\n      <td>F</td>\n      <td>53</td>\n      <td>3.503114e+08</td>\n      <td>0</td>\n      <td>1</td>\n      <td>6</td>\n      <td>23</td>\n      <td>0</td>\n      <td>24</td>\n      <td>1</td>\n      <td>United States</td>\n    </tr>\n    <tr>\n      <th>2</th>\n      <td>1359</td>\n      <td>2015-01-01 18:52:44</td>\n      <td>2015-01-01 18:52:45</td>\n      <td>15</td>\n      <td>YSSKYOSJHPPLJ</td>\n      <td>SEO</td>\n      <td>Opera</td>\n      <td>M</td>\n      <td>53</td>\n      <td>2.621474e+09</td>\n      <td>1</td>\n      <td>12</td>\n      <td>3</td>\n      <td>1</td>\n      <td>3</td>\n      <td>1</td>\n      <td>12</td>\n      <td>United States</td>\n    </tr>\n    <tr>\n      <th>3</th>\n      <td>150084</td>\n      <td>2015-04-28 21:13:25</td>\n      <td>2015-05-04 13:54:50</td>\n      <td>44</td>\n      <td>ATGTXKYKUDUQN</td>\n      <td>SEO</td>\n      <td>Safari</td>\n      <td>M</td>\n      <td>41</td>\n      <td>3.840542e+09</td>\n      <td>0</td>\n      <td>1</td>\n      <td>1</td>\n      <td>18</td>\n      <td>0</td>\n      <td>19</td>\n      <td>1</td>\n      <td>NULL</td>\n    </tr>\n    <tr>\n      <th>4</th>\n      <td>221365</td>\n      <td>2015-07-21 07:09:52</td>\n      <td>2015-09-09 18:40:53</td>\n      <td>39</td>\n      <td>NAUITBZFJKHWW</td>\n      <td>Ads</td>\n      <td>Safari</td>\n      <td>M</td>\n      <td>45</td>\n      <td>4.155831e+08</td>\n      <td>0</td>\n      <td>1</td>\n      <td>1</td>\n      <td>30</td>\n      <td>2</td>\n      <td>37</td>\n      <td>1</td>\n      <td>United States</td>\n    </tr>\n  </tbody>\n</table>\n</div>"
     },
     "metadata": {},
     "execution_count": 35
    }
   ],
   "source": [
    "df = dFraud\n",
    "\n",
    "def lookup_country(ip):\n",
    "    result =  dIp[(dIp['lower_bound_ip_address']<ip) & (dIp['upper_bound_ip_address']>=ip)]['country']\n",
    "    if len(result) :\n",
    "        return result.tolist()[0]\n",
    "    else:\n",
    "        return 'NULL'\n",
    "\n",
    "df['country'] = df.apply(lambda row: lookup_country(row['ip_address']), axis=1)\n",
    "\n",
    "df.head()"
   ]
  },
  {
   "cell_type": "markdown",
   "metadata": {},
   "source": [
    "### Importer les dataset"
   ]
  },
  {
   "cell_type": "code",
   "execution_count": 41,
   "metadata": {},
   "outputs": [
    {
     "output_type": "error",
     "ename": "TypeError",
     "evalue": "strptime() argument 1 must be str, not Timestamp",
     "traceback": [
      "\u001b[1;31m---------------------------------------------------------------------------\u001b[0m",
      "\u001b[1;31mTypeError\u001b[0m                                 Traceback (most recent call last)",
      "\u001b[1;32m<ipython-input-41-acc36efddb3d>\u001b[0m in \u001b[0;36m<module>\u001b[1;34m\u001b[0m\n\u001b[1;32m----> 1\u001b[1;33m \u001b[0mpurchase\u001b[0m \u001b[1;33m=\u001b[0m \u001b[0mdf\u001b[0m\u001b[1;33m[\u001b[0m\u001b[1;34m'purchase_time'\u001b[0m\u001b[1;33m]\u001b[0m\u001b[1;33m.\u001b[0m\u001b[0mapply\u001b[0m\u001b[1;33m(\u001b[0m\u001b[1;32mlambda\u001b[0m \u001b[0mx\u001b[0m\u001b[1;33m:\u001b[0m \u001b[0mdatetime\u001b[0m\u001b[1;33m.\u001b[0m\u001b[0mstrptime\u001b[0m\u001b[1;33m(\u001b[0m\u001b[0mx\u001b[0m\u001b[1;33m,\u001b[0m \u001b[1;34m'%Y-%m-%d %H:%M:%S'\u001b[0m\u001b[1;33m)\u001b[0m\u001b[1;33m)\u001b[0m\u001b[1;33m\u001b[0m\u001b[1;33m\u001b[0m\u001b[0m\n\u001b[0m\u001b[0;32m      2\u001b[0m \u001b[0msignup\u001b[0m \u001b[1;33m=\u001b[0m \u001b[0mdf\u001b[0m\u001b[1;33m[\u001b[0m\u001b[1;34m'signup_time'\u001b[0m\u001b[1;33m]\u001b[0m\u001b[1;33m.\u001b[0m\u001b[0mapply\u001b[0m\u001b[1;33m(\u001b[0m\u001b[1;32mlambda\u001b[0m \u001b[0mx\u001b[0m\u001b[1;33m:\u001b[0m \u001b[0mdatetime\u001b[0m\u001b[1;33m.\u001b[0m\u001b[0mstrptime\u001b[0m\u001b[1;33m(\u001b[0m\u001b[0mx\u001b[0m\u001b[1;33m,\u001b[0m \u001b[1;34m'%Y-%m-%d %H:%M:%S'\u001b[0m\u001b[1;33m)\u001b[0m\u001b[1;33m)\u001b[0m\u001b[1;33m\u001b[0m\u001b[1;33m\u001b[0m\u001b[0m\n\u001b[0;32m      3\u001b[0m \u001b[0mdf\u001b[0m\u001b[1;33m[\u001b[0m\u001b[1;34m'time_diff'\u001b[0m\u001b[1;33m]\u001b[0m \u001b[1;33m=\u001b[0m \u001b[0mpurchase\u001b[0m \u001b[1;33m-\u001b[0m \u001b[0msignup\u001b[0m\u001b[1;33m\u001b[0m\u001b[1;33m\u001b[0m\u001b[0m\n\u001b[0;32m      4\u001b[0m \u001b[0mdf\u001b[0m\u001b[1;33m[\u001b[0m\u001b[1;34m'time_diff'\u001b[0m\u001b[1;33m]\u001b[0m \u001b[1;33m=\u001b[0m \u001b[0mdf\u001b[0m\u001b[1;33m[\u001b[0m\u001b[1;34m'time_diff'\u001b[0m\u001b[1;33m]\u001b[0m\u001b[1;33m.\u001b[0m\u001b[0mapply\u001b[0m\u001b[1;33m(\u001b[0m\u001b[1;32mlambda\u001b[0m \u001b[0mx\u001b[0m\u001b[1;33m:\u001b[0m \u001b[0mx\u001b[0m\u001b[1;33m.\u001b[0m\u001b[0mdays\u001b[0m\u001b[1;33m)\u001b[0m\u001b[1;33m\u001b[0m\u001b[1;33m\u001b[0m\u001b[0m\n\u001b[0;32m      5\u001b[0m \u001b[0mdf\u001b[0m\u001b[1;33m\u001b[0m\u001b[1;33m\u001b[0m\u001b[0m\n",
      "\u001b[1;32m~\\AppData\\Local\\Packages\\PythonSoftwareFoundation.Python.3.8_qbz5n2kfra8p0\\LocalCache\\local-packages\\Python38\\site-packages\\pandas\\core\\series.py\u001b[0m in \u001b[0;36mapply\u001b[1;34m(self, func, convert_dtype, args, **kwds)\u001b[0m\n\u001b[0;32m   4106\u001b[0m             \u001b[1;32melse\u001b[0m\u001b[1;33m:\u001b[0m\u001b[1;33m\u001b[0m\u001b[1;33m\u001b[0m\u001b[0m\n\u001b[0;32m   4107\u001b[0m                 \u001b[0mvalues\u001b[0m \u001b[1;33m=\u001b[0m \u001b[0mself\u001b[0m\u001b[1;33m.\u001b[0m\u001b[0mastype\u001b[0m\u001b[1;33m(\u001b[0m\u001b[0mobject\u001b[0m\u001b[1;33m)\u001b[0m\u001b[1;33m.\u001b[0m\u001b[0m_values\u001b[0m\u001b[1;33m\u001b[0m\u001b[1;33m\u001b[0m\u001b[0m\n\u001b[1;32m-> 4108\u001b[1;33m                 \u001b[0mmapped\u001b[0m \u001b[1;33m=\u001b[0m \u001b[0mlib\u001b[0m\u001b[1;33m.\u001b[0m\u001b[0mmap_infer\u001b[0m\u001b[1;33m(\u001b[0m\u001b[0mvalues\u001b[0m\u001b[1;33m,\u001b[0m \u001b[0mf\u001b[0m\u001b[1;33m,\u001b[0m \u001b[0mconvert\u001b[0m\u001b[1;33m=\u001b[0m\u001b[0mconvert_dtype\u001b[0m\u001b[1;33m)\u001b[0m\u001b[1;33m\u001b[0m\u001b[1;33m\u001b[0m\u001b[0m\n\u001b[0m\u001b[0;32m   4109\u001b[0m \u001b[1;33m\u001b[0m\u001b[0m\n\u001b[0;32m   4110\u001b[0m         \u001b[1;32mif\u001b[0m \u001b[0mlen\u001b[0m\u001b[1;33m(\u001b[0m\u001b[0mmapped\u001b[0m\u001b[1;33m)\u001b[0m \u001b[1;32mand\u001b[0m \u001b[0misinstance\u001b[0m\u001b[1;33m(\u001b[0m\u001b[0mmapped\u001b[0m\u001b[1;33m[\u001b[0m\u001b[1;36m0\u001b[0m\u001b[1;33m]\u001b[0m\u001b[1;33m,\u001b[0m \u001b[0mSeries\u001b[0m\u001b[1;33m)\u001b[0m\u001b[1;33m:\u001b[0m\u001b[1;33m\u001b[0m\u001b[1;33m\u001b[0m\u001b[0m\n",
      "\u001b[1;32mpandas\\_libs\\lib.pyx\u001b[0m in \u001b[0;36mpandas._libs.lib.map_infer\u001b[1;34m()\u001b[0m\n",
      "\u001b[1;32m<ipython-input-41-acc36efddb3d>\u001b[0m in \u001b[0;36m<lambda>\u001b[1;34m(x)\u001b[0m\n\u001b[1;32m----> 1\u001b[1;33m \u001b[0mpurchase\u001b[0m \u001b[1;33m=\u001b[0m \u001b[0mdf\u001b[0m\u001b[1;33m[\u001b[0m\u001b[1;34m'purchase_time'\u001b[0m\u001b[1;33m]\u001b[0m\u001b[1;33m.\u001b[0m\u001b[0mapply\u001b[0m\u001b[1;33m(\u001b[0m\u001b[1;32mlambda\u001b[0m \u001b[0mx\u001b[0m\u001b[1;33m:\u001b[0m \u001b[0mdatetime\u001b[0m\u001b[1;33m.\u001b[0m\u001b[0mstrptime\u001b[0m\u001b[1;33m(\u001b[0m\u001b[0mx\u001b[0m\u001b[1;33m,\u001b[0m \u001b[1;34m'%Y-%m-%d %H:%M:%S'\u001b[0m\u001b[1;33m)\u001b[0m\u001b[1;33m)\u001b[0m\u001b[1;33m\u001b[0m\u001b[1;33m\u001b[0m\u001b[0m\n\u001b[0m\u001b[0;32m      2\u001b[0m \u001b[0msignup\u001b[0m \u001b[1;33m=\u001b[0m \u001b[0mdf\u001b[0m\u001b[1;33m[\u001b[0m\u001b[1;34m'signup_time'\u001b[0m\u001b[1;33m]\u001b[0m\u001b[1;33m.\u001b[0m\u001b[0mapply\u001b[0m\u001b[1;33m(\u001b[0m\u001b[1;32mlambda\u001b[0m \u001b[0mx\u001b[0m\u001b[1;33m:\u001b[0m \u001b[0mdatetime\u001b[0m\u001b[1;33m.\u001b[0m\u001b[0mstrptime\u001b[0m\u001b[1;33m(\u001b[0m\u001b[0mx\u001b[0m\u001b[1;33m,\u001b[0m \u001b[1;34m'%Y-%m-%d %H:%M:%S'\u001b[0m\u001b[1;33m)\u001b[0m\u001b[1;33m)\u001b[0m\u001b[1;33m\u001b[0m\u001b[1;33m\u001b[0m\u001b[0m\n\u001b[0;32m      3\u001b[0m \u001b[0mdf\u001b[0m\u001b[1;33m[\u001b[0m\u001b[1;34m'time_diff'\u001b[0m\u001b[1;33m]\u001b[0m \u001b[1;33m=\u001b[0m \u001b[0mpurchase\u001b[0m \u001b[1;33m-\u001b[0m \u001b[0msignup\u001b[0m\u001b[1;33m\u001b[0m\u001b[1;33m\u001b[0m\u001b[0m\n\u001b[0;32m      4\u001b[0m \u001b[0mdf\u001b[0m\u001b[1;33m[\u001b[0m\u001b[1;34m'time_diff'\u001b[0m\u001b[1;33m]\u001b[0m \u001b[1;33m=\u001b[0m \u001b[0mdf\u001b[0m\u001b[1;33m[\u001b[0m\u001b[1;34m'time_diff'\u001b[0m\u001b[1;33m]\u001b[0m\u001b[1;33m.\u001b[0m\u001b[0mapply\u001b[0m\u001b[1;33m(\u001b[0m\u001b[1;32mlambda\u001b[0m \u001b[0mx\u001b[0m\u001b[1;33m:\u001b[0m \u001b[0mx\u001b[0m\u001b[1;33m.\u001b[0m\u001b[0mdays\u001b[0m\u001b[1;33m)\u001b[0m\u001b[1;33m\u001b[0m\u001b[1;33m\u001b[0m\u001b[0m\n\u001b[0;32m      5\u001b[0m \u001b[0mdf\u001b[0m\u001b[1;33m\u001b[0m\u001b[1;33m\u001b[0m\u001b[0m\n",
      "\u001b[1;31mTypeError\u001b[0m: strptime() argument 1 must be str, not Timestamp"
     ]
    }
   ],
   "source": [
    "purchase = df['purchase_time'].apply(lambda x: datetime.strptime(x, '%Y-%m-%d %H:%M:%S'))\n",
    "signup = df['signup_time'].apply(lambda x: datetime.strptime(x, '%Y-%m-%d %H:%M:%S'))\n",
    "df['time_diff'] = purchase - signup\n",
    "df['time_diff'] = df['time_diff'].apply(lambda x: x.days)\n",
    "df"
   ]
  },
  {
   "cell_type": "code",
   "execution_count": 42,
   "metadata": {},
   "outputs": [
    {
     "output_type": "execute_result",
     "data": {
      "text/plain": [
       "   user_id         signup_time       purchase_time  purchase_value  \\\n",
       "0    22058 2015-02-24 22:55:49 2015-04-18 02:47:11              34   \n",
       "1   333320 2015-06-07 20:39:50 2015-06-08 01:38:54              16   \n",
       "2     1359 2015-01-01 18:52:44 2015-01-01 18:52:45              15   \n",
       "3   150084 2015-04-28 21:13:25 2015-05-04 13:54:50              44   \n",
       "4   221365 2015-07-21 07:09:52 2015-09-09 18:40:53              39   \n",
       "\n",
       "       device_id source browser sex  age    ip_address  class  device_num  \\\n",
       "0  QVPSPJUOCKZAR    SEO  Chrome   M   39  7.327584e+08      0           1   \n",
       "1  EOGFQPIZPYXFZ    Ads  Chrome   F   53  3.503114e+08      0           1   \n",
       "2  YSSKYOSJHPPLJ    SEO   Opera   M   53  2.621474e+09      1          12   \n",
       "3  ATGTXKYKUDUQN    SEO  Safari   M   41  3.840542e+09      0           1   \n",
       "4  NAUITBZFJKHWW    Ads  Safari   M   45  4.155831e+08      0           1   \n",
       "\n",
       "   signup_day  signup_week  purchase_day  purchase_week  ip_num_x  \\\n",
       "0           1            9             5             16         1   \n",
       "1           6           23             0             24         1   \n",
       "2           3            1             3              1        12   \n",
       "3           1           18             0             19         1   \n",
       "4           1           30             2             37         1   \n",
       "\n",
       "         country  ip_num_y  \n",
       "0          Japan         1  \n",
       "1  United States         1  \n",
       "2  United States        12  \n",
       "3           NULL         1  \n",
       "4  United States         1  "
      ],
      "text/html": "<div>\n<style scoped>\n    .dataframe tbody tr th:only-of-type {\n        vertical-align: middle;\n    }\n\n    .dataframe tbody tr th {\n        vertical-align: top;\n    }\n\n    .dataframe thead th {\n        text-align: right;\n    }\n</style>\n<table border=\"1\" class=\"dataframe\">\n  <thead>\n    <tr style=\"text-align: right;\">\n      <th></th>\n      <th>user_id</th>\n      <th>signup_time</th>\n      <th>purchase_time</th>\n      <th>purchase_value</th>\n      <th>device_id</th>\n      <th>source</th>\n      <th>browser</th>\n      <th>sex</th>\n      <th>age</th>\n      <th>ip_address</th>\n      <th>class</th>\n      <th>device_num</th>\n      <th>signup_day</th>\n      <th>signup_week</th>\n      <th>purchase_day</th>\n      <th>purchase_week</th>\n      <th>ip_num_x</th>\n      <th>country</th>\n      <th>ip_num_y</th>\n    </tr>\n  </thead>\n  <tbody>\n    <tr>\n      <th>0</th>\n      <td>22058</td>\n      <td>2015-02-24 22:55:49</td>\n      <td>2015-04-18 02:47:11</td>\n      <td>34</td>\n      <td>QVPSPJUOCKZAR</td>\n      <td>SEO</td>\n      <td>Chrome</td>\n      <td>M</td>\n      <td>39</td>\n      <td>7.327584e+08</td>\n      <td>0</td>\n      <td>1</td>\n      <td>1</td>\n      <td>9</td>\n      <td>5</td>\n      <td>16</td>\n      <td>1</td>\n      <td>Japan</td>\n      <td>1</td>\n    </tr>\n    <tr>\n      <th>1</th>\n      <td>333320</td>\n      <td>2015-06-07 20:39:50</td>\n      <td>2015-06-08 01:38:54</td>\n      <td>16</td>\n      <td>EOGFQPIZPYXFZ</td>\n      <td>Ads</td>\n      <td>Chrome</td>\n      <td>F</td>\n      <td>53</td>\n      <td>3.503114e+08</td>\n      <td>0</td>\n      <td>1</td>\n      <td>6</td>\n      <td>23</td>\n      <td>0</td>\n      <td>24</td>\n      <td>1</td>\n      <td>United States</td>\n      <td>1</td>\n    </tr>\n    <tr>\n      <th>2</th>\n      <td>1359</td>\n      <td>2015-01-01 18:52:44</td>\n      <td>2015-01-01 18:52:45</td>\n      <td>15</td>\n      <td>YSSKYOSJHPPLJ</td>\n      <td>SEO</td>\n      <td>Opera</td>\n      <td>M</td>\n      <td>53</td>\n      <td>2.621474e+09</td>\n      <td>1</td>\n      <td>12</td>\n      <td>3</td>\n      <td>1</td>\n      <td>3</td>\n      <td>1</td>\n      <td>12</td>\n      <td>United States</td>\n      <td>12</td>\n    </tr>\n    <tr>\n      <th>3</th>\n      <td>150084</td>\n      <td>2015-04-28 21:13:25</td>\n      <td>2015-05-04 13:54:50</td>\n      <td>44</td>\n      <td>ATGTXKYKUDUQN</td>\n      <td>SEO</td>\n      <td>Safari</td>\n      <td>M</td>\n      <td>41</td>\n      <td>3.840542e+09</td>\n      <td>0</td>\n      <td>1</td>\n      <td>1</td>\n      <td>18</td>\n      <td>0</td>\n      <td>19</td>\n      <td>1</td>\n      <td>NULL</td>\n      <td>1</td>\n    </tr>\n    <tr>\n      <th>4</th>\n      <td>221365</td>\n      <td>2015-07-21 07:09:52</td>\n      <td>2015-09-09 18:40:53</td>\n      <td>39</td>\n      <td>NAUITBZFJKHWW</td>\n      <td>Ads</td>\n      <td>Safari</td>\n      <td>M</td>\n      <td>45</td>\n      <td>4.155831e+08</td>\n      <td>0</td>\n      <td>1</td>\n      <td>1</td>\n      <td>30</td>\n      <td>2</td>\n      <td>37</td>\n      <td>1</td>\n      <td>United States</td>\n      <td>1</td>\n    </tr>\n  </tbody>\n</table>\n</div>"
     },
     "metadata": {},
     "execution_count": 42
    }
   ],
   "source": [
    "ip_address = dFraud[['user_id', 'ip_address']].groupby('ip_address').count().reset_index()\n",
    "ip_address= ip_address.rename(columns={'user_id': 'ip_num'})\n",
    "dFraud = dFraud.merge(ip_address, how='left', on='ip_address')\n",
    "dFraud.head()"
   ]
  },
  {
   "cell_type": "code",
   "execution_count": 43,
   "metadata": {},
   "outputs": [
    {
     "output_type": "execute_result",
     "data": {
      "text/plain": [
       "   user_id         signup_time       purchase_time  purchase_value  \\\n",
       "0    22058 2015-02-24 22:55:49 2015-04-18 02:47:11              34   \n",
       "1   333320 2015-06-07 20:39:50 2015-06-08 01:38:54              16   \n",
       "2     1359 2015-01-01 18:52:44 2015-01-01 18:52:45              15   \n",
       "3   150084 2015-04-28 21:13:25 2015-05-04 13:54:50              44   \n",
       "4   221365 2015-07-21 07:09:52 2015-09-09 18:40:53              39   \n",
       "\n",
       "       device_id source browser sex  age    ip_address  class  device_num_x  \\\n",
       "0  QVPSPJUOCKZAR    SEO  Chrome   M   39  7.327584e+08      0             1   \n",
       "1  EOGFQPIZPYXFZ    Ads  Chrome   F   53  3.503114e+08      0             1   \n",
       "2  YSSKYOSJHPPLJ    SEO   Opera   M   53  2.621474e+09      1            12   \n",
       "3  ATGTXKYKUDUQN    SEO  Safari   M   41  3.840542e+09      0             1   \n",
       "4  NAUITBZFJKHWW    Ads  Safari   M   45  4.155831e+08      0             1   \n",
       "\n",
       "   signup_day  signup_week  purchase_day  purchase_week  ip_num_x  \\\n",
       "0           1            9             5             16         1   \n",
       "1           6           23             0             24         1   \n",
       "2           3            1             3              1        12   \n",
       "3           1           18             0             19         1   \n",
       "4           1           30             2             37         1   \n",
       "\n",
       "         country  ip_num_y  device_num_y  \n",
       "0          Japan         1             1  \n",
       "1  United States         1             1  \n",
       "2  United States        12            12  \n",
       "3           NULL         1             1  \n",
       "4  United States         1             1  "
      ],
      "text/html": "<div>\n<style scoped>\n    .dataframe tbody tr th:only-of-type {\n        vertical-align: middle;\n    }\n\n    .dataframe tbody tr th {\n        vertical-align: top;\n    }\n\n    .dataframe thead th {\n        text-align: right;\n    }\n</style>\n<table border=\"1\" class=\"dataframe\">\n  <thead>\n    <tr style=\"text-align: right;\">\n      <th></th>\n      <th>user_id</th>\n      <th>signup_time</th>\n      <th>purchase_time</th>\n      <th>purchase_value</th>\n      <th>device_id</th>\n      <th>source</th>\n      <th>browser</th>\n      <th>sex</th>\n      <th>age</th>\n      <th>ip_address</th>\n      <th>class</th>\n      <th>device_num_x</th>\n      <th>signup_day</th>\n      <th>signup_week</th>\n      <th>purchase_day</th>\n      <th>purchase_week</th>\n      <th>ip_num_x</th>\n      <th>country</th>\n      <th>ip_num_y</th>\n      <th>device_num_y</th>\n    </tr>\n  </thead>\n  <tbody>\n    <tr>\n      <th>0</th>\n      <td>22058</td>\n      <td>2015-02-24 22:55:49</td>\n      <td>2015-04-18 02:47:11</td>\n      <td>34</td>\n      <td>QVPSPJUOCKZAR</td>\n      <td>SEO</td>\n      <td>Chrome</td>\n      <td>M</td>\n      <td>39</td>\n      <td>7.327584e+08</td>\n      <td>0</td>\n      <td>1</td>\n      <td>1</td>\n      <td>9</td>\n      <td>5</td>\n      <td>16</td>\n      <td>1</td>\n      <td>Japan</td>\n      <td>1</td>\n      <td>1</td>\n    </tr>\n    <tr>\n      <th>1</th>\n      <td>333320</td>\n      <td>2015-06-07 20:39:50</td>\n      <td>2015-06-08 01:38:54</td>\n      <td>16</td>\n      <td>EOGFQPIZPYXFZ</td>\n      <td>Ads</td>\n      <td>Chrome</td>\n      <td>F</td>\n      <td>53</td>\n      <td>3.503114e+08</td>\n      <td>0</td>\n      <td>1</td>\n      <td>6</td>\n      <td>23</td>\n      <td>0</td>\n      <td>24</td>\n      <td>1</td>\n      <td>United States</td>\n      <td>1</td>\n      <td>1</td>\n    </tr>\n    <tr>\n      <th>2</th>\n      <td>1359</td>\n      <td>2015-01-01 18:52:44</td>\n      <td>2015-01-01 18:52:45</td>\n      <td>15</td>\n      <td>YSSKYOSJHPPLJ</td>\n      <td>SEO</td>\n      <td>Opera</td>\n      <td>M</td>\n      <td>53</td>\n      <td>2.621474e+09</td>\n      <td>1</td>\n      <td>12</td>\n      <td>3</td>\n      <td>1</td>\n      <td>3</td>\n      <td>1</td>\n      <td>12</td>\n      <td>United States</td>\n      <td>12</td>\n      <td>12</td>\n    </tr>\n    <tr>\n      <th>3</th>\n      <td>150084</td>\n      <td>2015-04-28 21:13:25</td>\n      <td>2015-05-04 13:54:50</td>\n      <td>44</td>\n      <td>ATGTXKYKUDUQN</td>\n      <td>SEO</td>\n      <td>Safari</td>\n      <td>M</td>\n      <td>41</td>\n      <td>3.840542e+09</td>\n      <td>0</td>\n      <td>1</td>\n      <td>1</td>\n      <td>18</td>\n      <td>0</td>\n      <td>19</td>\n      <td>1</td>\n      <td>NULL</td>\n      <td>1</td>\n      <td>1</td>\n    </tr>\n    <tr>\n      <th>4</th>\n      <td>221365</td>\n      <td>2015-07-21 07:09:52</td>\n      <td>2015-09-09 18:40:53</td>\n      <td>39</td>\n      <td>NAUITBZFJKHWW</td>\n      <td>Ads</td>\n      <td>Safari</td>\n      <td>M</td>\n      <td>45</td>\n      <td>4.155831e+08</td>\n      <td>0</td>\n      <td>1</td>\n      <td>1</td>\n      <td>30</td>\n      <td>2</td>\n      <td>37</td>\n      <td>1</td>\n      <td>United States</td>\n      <td>1</td>\n      <td>1</td>\n    </tr>\n  </tbody>\n</table>\n</div>"
     },
     "metadata": {},
     "execution_count": 43
    }
   ],
   "source": [
    "device_num = dFraud[['user_id', 'device_id']].groupby('device_id').count().reset_index()\n",
    "device_num = device_num.rename(columns={'user_id': 'device_num'})\n",
    "dFraud = dFraud.merge(device_num, how='left', on='device_id')\n",
    "dFraud.head()"
   ]
  },
  {
   "cell_type": "code",
   "execution_count": 44,
   "metadata": {},
   "outputs": [
    {
     "output_type": "execute_result",
     "data": {
      "text/plain": [
       "        user_id         signup_time       purchase_time  purchase_value  \\\n",
       "0         22058 2015-02-24 22:55:49 2015-04-18 02:47:11              34   \n",
       "1        333320 2015-06-07 20:39:50 2015-06-08 01:38:54              16   \n",
       "2          1359 2015-01-01 18:52:44 2015-01-01 18:52:45              15   \n",
       "3        150084 2015-04-28 21:13:25 2015-05-04 13:54:50              44   \n",
       "4        221365 2015-07-21 07:09:52 2015-09-09 18:40:53              39   \n",
       "...         ...                 ...                 ...             ...   \n",
       "151107   345170 2015-01-27 03:03:34 2015-03-29 00:30:47              43   \n",
       "151108   274471 2015-05-15 17:43:29 2015-05-26 12:24:39              35   \n",
       "151109   368416 2015-03-03 23:07:31 2015-05-20 07:07:47              40   \n",
       "151110   207709 2015-07-09 20:06:07 2015-09-07 09:34:46              46   \n",
       "151111   138208 2015-06-10 07:02:20 2015-07-21 02:03:53              20   \n",
       "\n",
       "            device_id  source browser sex  age    ip_address  class  \\\n",
       "0       QVPSPJUOCKZAR     SEO  Chrome   M   39  7.327584e+08      0   \n",
       "1       EOGFQPIZPYXFZ     Ads  Chrome   F   53  3.503114e+08      0   \n",
       "2       YSSKYOSJHPPLJ     SEO   Opera   M   53  2.621474e+09      1   \n",
       "3       ATGTXKYKUDUQN     SEO  Safari   M   41  3.840542e+09      0   \n",
       "4       NAUITBZFJKHWW     Ads  Safari   M   45  4.155831e+08      0   \n",
       "...               ...     ...     ...  ..  ...           ...    ...   \n",
       "151107  XPSKTWGPWINLR     SEO  Chrome   M   28  3.451155e+09      1   \n",
       "151108  LYSFABUCPCGBA     SEO  Safari   M   32  2.439047e+09      0   \n",
       "151109  MEQHCSJUBRBFE     SEO      IE   F   26  2.748471e+09      0   \n",
       "151110  CMCXFGRHYSTVJ     SEO  Chrome   M   37  3.601175e+09      0   \n",
       "151111  ZINIADFCLHYPG  Direct      IE   M   38  4.103825e+09      0   \n",
       "\n",
       "        device_num_x  signup_day  signup_week  purchase_day  purchase_week  \\\n",
       "0                  1           1            9             5             16   \n",
       "1                  1           6           23             0             24   \n",
       "2                 12           3            1             3              1   \n",
       "3                  1           1           18             0             19   \n",
       "4                  1           1           30             2             37   \n",
       "...              ...         ...          ...           ...            ...   \n",
       "151107             2           1            5             6             13   \n",
       "151108             1           4           20             1             22   \n",
       "151109             1           1           10             2             21   \n",
       "151110             2           3           28             0             37   \n",
       "151111             1           2           24             1             30   \n",
       "\n",
       "        ip_num_x        country  ip_num_y  device_num_y  \n",
       "0              1          Japan         1             1  \n",
       "1              1  United States         1             1  \n",
       "2             12  United States        12            12  \n",
       "3              1           NULL         1             1  \n",
       "4              1  United States         1             1  \n",
       "...          ...            ...       ...           ...  \n",
       "151107         1  United States         1             2  \n",
       "151108         1    Netherlands         1             1  \n",
       "151109         1          Japan         1             1  \n",
       "151110         1  United States         1             2  \n",
       "151111         1           NULL         1             1  \n",
       "\n",
       "[151112 rows x 20 columns]"
      ],
      "text/html": "<div>\n<style scoped>\n    .dataframe tbody tr th:only-of-type {\n        vertical-align: middle;\n    }\n\n    .dataframe tbody tr th {\n        vertical-align: top;\n    }\n\n    .dataframe thead th {\n        text-align: right;\n    }\n</style>\n<table border=\"1\" class=\"dataframe\">\n  <thead>\n    <tr style=\"text-align: right;\">\n      <th></th>\n      <th>user_id</th>\n      <th>signup_time</th>\n      <th>purchase_time</th>\n      <th>purchase_value</th>\n      <th>device_id</th>\n      <th>source</th>\n      <th>browser</th>\n      <th>sex</th>\n      <th>age</th>\n      <th>ip_address</th>\n      <th>class</th>\n      <th>device_num_x</th>\n      <th>signup_day</th>\n      <th>signup_week</th>\n      <th>purchase_day</th>\n      <th>purchase_week</th>\n      <th>ip_num_x</th>\n      <th>country</th>\n      <th>ip_num_y</th>\n      <th>device_num_y</th>\n    </tr>\n  </thead>\n  <tbody>\n    <tr>\n      <th>0</th>\n      <td>22058</td>\n      <td>2015-02-24 22:55:49</td>\n      <td>2015-04-18 02:47:11</td>\n      <td>34</td>\n      <td>QVPSPJUOCKZAR</td>\n      <td>SEO</td>\n      <td>Chrome</td>\n      <td>M</td>\n      <td>39</td>\n      <td>7.327584e+08</td>\n      <td>0</td>\n      <td>1</td>\n      <td>1</td>\n      <td>9</td>\n      <td>5</td>\n      <td>16</td>\n      <td>1</td>\n      <td>Japan</td>\n      <td>1</td>\n      <td>1</td>\n    </tr>\n    <tr>\n      <th>1</th>\n      <td>333320</td>\n      <td>2015-06-07 20:39:50</td>\n      <td>2015-06-08 01:38:54</td>\n      <td>16</td>\n      <td>EOGFQPIZPYXFZ</td>\n      <td>Ads</td>\n      <td>Chrome</td>\n      <td>F</td>\n      <td>53</td>\n      <td>3.503114e+08</td>\n      <td>0</td>\n      <td>1</td>\n      <td>6</td>\n      <td>23</td>\n      <td>0</td>\n      <td>24</td>\n      <td>1</td>\n      <td>United States</td>\n      <td>1</td>\n      <td>1</td>\n    </tr>\n    <tr>\n      <th>2</th>\n      <td>1359</td>\n      <td>2015-01-01 18:52:44</td>\n      <td>2015-01-01 18:52:45</td>\n      <td>15</td>\n      <td>YSSKYOSJHPPLJ</td>\n      <td>SEO</td>\n      <td>Opera</td>\n      <td>M</td>\n      <td>53</td>\n      <td>2.621474e+09</td>\n      <td>1</td>\n      <td>12</td>\n      <td>3</td>\n      <td>1</td>\n      <td>3</td>\n      <td>1</td>\n      <td>12</td>\n      <td>United States</td>\n      <td>12</td>\n      <td>12</td>\n    </tr>\n    <tr>\n      <th>3</th>\n      <td>150084</td>\n      <td>2015-04-28 21:13:25</td>\n      <td>2015-05-04 13:54:50</td>\n      <td>44</td>\n      <td>ATGTXKYKUDUQN</td>\n      <td>SEO</td>\n      <td>Safari</td>\n      <td>M</td>\n      <td>41</td>\n      <td>3.840542e+09</td>\n      <td>0</td>\n      <td>1</td>\n      <td>1</td>\n      <td>18</td>\n      <td>0</td>\n      <td>19</td>\n      <td>1</td>\n      <td>NULL</td>\n      <td>1</td>\n      <td>1</td>\n    </tr>\n    <tr>\n      <th>4</th>\n      <td>221365</td>\n      <td>2015-07-21 07:09:52</td>\n      <td>2015-09-09 18:40:53</td>\n      <td>39</td>\n      <td>NAUITBZFJKHWW</td>\n      <td>Ads</td>\n      <td>Safari</td>\n      <td>M</td>\n      <td>45</td>\n      <td>4.155831e+08</td>\n      <td>0</td>\n      <td>1</td>\n      <td>1</td>\n      <td>30</td>\n      <td>2</td>\n      <td>37</td>\n      <td>1</td>\n      <td>United States</td>\n      <td>1</td>\n      <td>1</td>\n    </tr>\n    <tr>\n      <th>...</th>\n      <td>...</td>\n      <td>...</td>\n      <td>...</td>\n      <td>...</td>\n      <td>...</td>\n      <td>...</td>\n      <td>...</td>\n      <td>...</td>\n      <td>...</td>\n      <td>...</td>\n      <td>...</td>\n      <td>...</td>\n      <td>...</td>\n      <td>...</td>\n      <td>...</td>\n      <td>...</td>\n      <td>...</td>\n      <td>...</td>\n      <td>...</td>\n      <td>...</td>\n    </tr>\n    <tr>\n      <th>151107</th>\n      <td>345170</td>\n      <td>2015-01-27 03:03:34</td>\n      <td>2015-03-29 00:30:47</td>\n      <td>43</td>\n      <td>XPSKTWGPWINLR</td>\n      <td>SEO</td>\n      <td>Chrome</td>\n      <td>M</td>\n      <td>28</td>\n      <td>3.451155e+09</td>\n      <td>1</td>\n      <td>2</td>\n      <td>1</td>\n      <td>5</td>\n      <td>6</td>\n      <td>13</td>\n      <td>1</td>\n      <td>United States</td>\n      <td>1</td>\n      <td>2</td>\n    </tr>\n    <tr>\n      <th>151108</th>\n      <td>274471</td>\n      <td>2015-05-15 17:43:29</td>\n      <td>2015-05-26 12:24:39</td>\n      <td>35</td>\n      <td>LYSFABUCPCGBA</td>\n      <td>SEO</td>\n      <td>Safari</td>\n      <td>M</td>\n      <td>32</td>\n      <td>2.439047e+09</td>\n      <td>0</td>\n      <td>1</td>\n      <td>4</td>\n      <td>20</td>\n      <td>1</td>\n      <td>22</td>\n      <td>1</td>\n      <td>Netherlands</td>\n      <td>1</td>\n      <td>1</td>\n    </tr>\n    <tr>\n      <th>151109</th>\n      <td>368416</td>\n      <td>2015-03-03 23:07:31</td>\n      <td>2015-05-20 07:07:47</td>\n      <td>40</td>\n      <td>MEQHCSJUBRBFE</td>\n      <td>SEO</td>\n      <td>IE</td>\n      <td>F</td>\n      <td>26</td>\n      <td>2.748471e+09</td>\n      <td>0</td>\n      <td>1</td>\n      <td>1</td>\n      <td>10</td>\n      <td>2</td>\n      <td>21</td>\n      <td>1</td>\n      <td>Japan</td>\n      <td>1</td>\n      <td>1</td>\n    </tr>\n    <tr>\n      <th>151110</th>\n      <td>207709</td>\n      <td>2015-07-09 20:06:07</td>\n      <td>2015-09-07 09:34:46</td>\n      <td>46</td>\n      <td>CMCXFGRHYSTVJ</td>\n      <td>SEO</td>\n      <td>Chrome</td>\n      <td>M</td>\n      <td>37</td>\n      <td>3.601175e+09</td>\n      <td>0</td>\n      <td>2</td>\n      <td>3</td>\n      <td>28</td>\n      <td>0</td>\n      <td>37</td>\n      <td>1</td>\n      <td>United States</td>\n      <td>1</td>\n      <td>2</td>\n    </tr>\n    <tr>\n      <th>151111</th>\n      <td>138208</td>\n      <td>2015-06-10 07:02:20</td>\n      <td>2015-07-21 02:03:53</td>\n      <td>20</td>\n      <td>ZINIADFCLHYPG</td>\n      <td>Direct</td>\n      <td>IE</td>\n      <td>M</td>\n      <td>38</td>\n      <td>4.103825e+09</td>\n      <td>0</td>\n      <td>1</td>\n      <td>2</td>\n      <td>24</td>\n      <td>1</td>\n      <td>30</td>\n      <td>1</td>\n      <td>NULL</td>\n      <td>1</td>\n      <td>1</td>\n    </tr>\n  </tbody>\n</table>\n<p>151112 rows × 20 columns</p>\n</div>"
     },
     "metadata": {},
     "execution_count": 44
    }
   ],
   "source": [
    "dFraud['signup_time'] = pd.to_datetime(dFraud['signup_time'])\n",
    "dFraud['signup_day'] = dFraud['signup_time'].dt.dayofweek\n",
    "dFraud['signup_week'] = dFraud['signup_time'].dt.week \n",
    "dFraud['purchase_time'] = pd.to_datetime(dFraud['purchase_time'])\n",
    "dFraud['purchase_day'] = dFraud['purchase_time'].dt.dayofweek\n",
    "dFraud['purchase_week'] = dFraud['purchase_time'].dt.week \n",
    "dFraud"
   ]
  },
  {
   "cell_type": "code",
   "execution_count": 45,
   "metadata": {},
   "outputs": [
    {
     "output_type": "stream",
     "name": "stdout",
     "text": [
      "        user_id         signup_time       purchase_time  purchase_value  \\\n0         22058 2015-02-24 22:55:49 2015-04-18 02:47:11              34   \n1        333320 2015-06-07 20:39:50 2015-06-08 01:38:54              16   \n2          1359 2015-01-01 18:52:44 2015-01-01 18:52:45              15   \n3        150084 2015-04-28 21:13:25 2015-05-04 13:54:50              44   \n4        221365 2015-07-21 07:09:52 2015-09-09 18:40:53              39   \n...         ...                 ...                 ...             ...   \n151107   345170 2015-01-27 03:03:34 2015-03-29 00:30:47              43   \n151108   274471 2015-05-15 17:43:29 2015-05-26 12:24:39              35   \n151109   368416 2015-03-03 23:07:31 2015-05-20 07:07:47              40   \n151110   207709 2015-07-09 20:06:07 2015-09-07 09:34:46              46   \n151111   138208 2015-06-10 07:02:20 2015-07-21 02:03:53              20   \n\n            device_id  source browser sex  age    ip_address  class  \\\n0       QVPSPJUOCKZAR     SEO  Chrome   M   39  7.327584e+08      0   \n1       EOGFQPIZPYXFZ     Ads  Chrome   F   53  3.503114e+08      0   \n2       YSSKYOSJHPPLJ     SEO   Opera   M   53  2.621474e+09      1   \n3       ATGTXKYKUDUQN     SEO  Safari   M   41  3.840542e+09      0   \n4       NAUITBZFJKHWW     Ads  Safari   M   45  4.155831e+08      0   \n...               ...     ...     ...  ..  ...           ...    ...   \n151107  XPSKTWGPWINLR     SEO  Chrome   M   28  3.451155e+09      1   \n151108  LYSFABUCPCGBA     SEO  Safari   M   32  2.439047e+09      0   \n151109  MEQHCSJUBRBFE     SEO      IE   F   26  2.748471e+09      0   \n151110  CMCXFGRHYSTVJ     SEO  Chrome   M   37  3.601175e+09      0   \n151111  ZINIADFCLHYPG  Direct      IE   M   38  4.103825e+09      0   \n\n        device_num_x  signup_day  signup_week  purchase_day  purchase_week  \\\n0                  1           1            9             5             16   \n1                  1           6           23             0             24   \n2                 12           3            1             3              1   \n3                  1           1           18             0             19   \n4                  1           1           30             2             37   \n...              ...         ...          ...           ...            ...   \n151107             2           1            5             6             13   \n151108             1           4           20             1             22   \n151109             1           1           10             2             21   \n151110             2           3           28             0             37   \n151111             1           2           24             1             30   \n\n        ip_num_x        country  ip_num_y  device_num_y  \n0              1          Japan         1             1  \n1              1  United States         1             1  \n2             12  United States        12            12  \n3              1           NULL         1             1  \n4              1  United States         1             1  \n...          ...            ...       ...           ...  \n151107         1  United States         1             2  \n151108         1    Netherlands         1             1  \n151109         1          Japan         1             1  \n151110         1  United States         1             2  \n151111         1           NULL         1             1  \n\n[151112 rows x 20 columns]\n"
     ]
    },
    {
     "output_type": "execute_result",
     "data": {
      "text/plain": [
       "purchase_value    0\n",
       "source            0\n",
       "browser           0\n",
       "sex               0\n",
       "age               0\n",
       "ip_address        0\n",
       "device_num_x      0\n",
       "signup_day        0\n",
       "signup_week       0\n",
       "purchase_day      0\n",
       "purchase_week     0\n",
       "ip_num_x          0\n",
       "country           0\n",
       "ip_num_y          0\n",
       "device_num_y      0\n",
       "dtype: int64"
      ]
     },
     "metadata": {},
     "execution_count": 45
    }
   ],
   "source": [
    "y = dFraud['class']\n",
    "data = dFraud.drop(['user_id', 'signup_time', 'purchase_time', 'class','device_id'], axis = 1)\n",
    "print(dFraud)\n",
    "X = data\n",
    "X.isnull().sum()"
   ]
  },
  {
   "cell_type": "code",
   "execution_count": 46,
   "metadata": {},
   "outputs": [
    {
     "output_type": "execute_result",
     "data": {
      "text/plain": [
       "   purchase_value  source  browser  sex  age    ip_address  device_num_x  \\\n",
       "0              34       2        0    1   39  7.327584e+08             1   \n",
       "1              16       0        0    0   53  3.503114e+08             1   \n",
       "2              15       2        3    1   53  2.621474e+09            12   \n",
       "3              44       2        4    1   41  3.840542e+09             1   \n",
       "4              39       0        4    1   45  4.155831e+08             1   \n",
       "\n",
       "   signup_day  signup_week  purchase_day  purchase_week  ip_num_x  country  \\\n",
       "0           1            9             5             16         1       84   \n",
       "1           6           23             0             24         1      172   \n",
       "2           3            1             3              1        12      172   \n",
       "3           1           18             0             19         1      115   \n",
       "4           1           30             2             37         1      172   \n",
       "\n",
       "   ip_num_y  device_num_y  \n",
       "0         1             1  \n",
       "1         1             1  \n",
       "2        12            12  \n",
       "3         1             1  \n",
       "4         1             1  "
      ],
      "text/html": "<div>\n<style scoped>\n    .dataframe tbody tr th:only-of-type {\n        vertical-align: middle;\n    }\n\n    .dataframe tbody tr th {\n        vertical-align: top;\n    }\n\n    .dataframe thead th {\n        text-align: right;\n    }\n</style>\n<table border=\"1\" class=\"dataframe\">\n  <thead>\n    <tr style=\"text-align: right;\">\n      <th></th>\n      <th>purchase_value</th>\n      <th>source</th>\n      <th>browser</th>\n      <th>sex</th>\n      <th>age</th>\n      <th>ip_address</th>\n      <th>device_num_x</th>\n      <th>signup_day</th>\n      <th>signup_week</th>\n      <th>purchase_day</th>\n      <th>purchase_week</th>\n      <th>ip_num_x</th>\n      <th>country</th>\n      <th>ip_num_y</th>\n      <th>device_num_y</th>\n    </tr>\n  </thead>\n  <tbody>\n    <tr>\n      <th>0</th>\n      <td>34</td>\n      <td>2</td>\n      <td>0</td>\n      <td>1</td>\n      <td>39</td>\n      <td>7.327584e+08</td>\n      <td>1</td>\n      <td>1</td>\n      <td>9</td>\n      <td>5</td>\n      <td>16</td>\n      <td>1</td>\n      <td>84</td>\n      <td>1</td>\n      <td>1</td>\n    </tr>\n    <tr>\n      <th>1</th>\n      <td>16</td>\n      <td>0</td>\n      <td>0</td>\n      <td>0</td>\n      <td>53</td>\n      <td>3.503114e+08</td>\n      <td>1</td>\n      <td>6</td>\n      <td>23</td>\n      <td>0</td>\n      <td>24</td>\n      <td>1</td>\n      <td>172</td>\n      <td>1</td>\n      <td>1</td>\n    </tr>\n    <tr>\n      <th>2</th>\n      <td>15</td>\n      <td>2</td>\n      <td>3</td>\n      <td>1</td>\n      <td>53</td>\n      <td>2.621474e+09</td>\n      <td>12</td>\n      <td>3</td>\n      <td>1</td>\n      <td>3</td>\n      <td>1</td>\n      <td>12</td>\n      <td>172</td>\n      <td>12</td>\n      <td>12</td>\n    </tr>\n    <tr>\n      <th>3</th>\n      <td>44</td>\n      <td>2</td>\n      <td>4</td>\n      <td>1</td>\n      <td>41</td>\n      <td>3.840542e+09</td>\n      <td>1</td>\n      <td>1</td>\n      <td>18</td>\n      <td>0</td>\n      <td>19</td>\n      <td>1</td>\n      <td>115</td>\n      <td>1</td>\n      <td>1</td>\n    </tr>\n    <tr>\n      <th>4</th>\n      <td>39</td>\n      <td>0</td>\n      <td>4</td>\n      <td>1</td>\n      <td>45</td>\n      <td>4.155831e+08</td>\n      <td>1</td>\n      <td>1</td>\n      <td>30</td>\n      <td>2</td>\n      <td>37</td>\n      <td>1</td>\n      <td>172</td>\n      <td>1</td>\n      <td>1</td>\n    </tr>\n  </tbody>\n</table>\n</div>"
     },
     "metadata": {},
     "execution_count": 46
    }
   ],
   "source": [
    "lb = preprocessing.LabelEncoder()\n",
    "X['source'] = lb.fit_transform(X['source'])\n",
    "X['browser'] = lb.fit_transform(X['browser'])\n",
    "X['sex'] = lb.fit_transform(X['sex'])\n",
    "X['country'] = lb.fit_transform(X['country'])\n",
    "\n",
    "X.head()"
   ]
  },
  {
   "cell_type": "code",
   "execution_count": 47,
   "metadata": {},
   "outputs": [],
   "source": [
    "X_train, X_test, y_train, y_test = train_test_split(X,y)"
   ]
  },
  {
   "cell_type": "code",
   "execution_count": 48,
   "metadata": {},
   "outputs": [
    {
     "output_type": "execute_result",
     "data": {
      "text/plain": [
       "RandomForestClassifier(criterion='entropy', max_depth=50, min_samples_leaf=3,\n",
       "                       min_samples_split=3, n_estimators=20, oob_score=True)"
      ]
     },
     "metadata": {},
     "execution_count": 48
    }
   ],
   "source": [
    "cls_forest = RandomForestClassifier(n_estimators = 20, criterion = 'entropy', max_depth = 50 , min_samples_leaf = 3, min_samples_split = 3, oob_score = True  )\n",
    "cls_forest.fit(X_train, y_train)"
   ]
  },
  {
   "cell_type": "code",
   "execution_count": 51,
   "metadata": {},
   "outputs": [
    {
     "output_type": "stream",
     "name": "stdout",
     "text": [
      "              precision    recall  f1-score   support\n\n           0       0.95      1.00      0.98     34227\n           1       0.99      0.54      0.70      3551\n\n    accuracy                           0.96     37778\n   macro avg       0.97      0.77      0.84     37778\nweighted avg       0.96      0.96      0.95     37778\n\n"
     ]
    }
   ],
   "source": [
    "predi = cls_forest.predict(X_test)\n",
    "predi\n",
    "print(classification_report(y_test, predi))"
   ]
  },
  {
   "cell_type": "code",
   "execution_count": 53,
   "metadata": {},
   "outputs": [
    {
     "output_type": "execute_result",
     "data": {
      "text/plain": [
       "array([0.05853894, 0.01374369, 0.01750346, 0.00922053, 0.05085101,\n",
       "       0.0716962 , 0.11246527, 0.03397151, 0.09319015, 0.02589413,\n",
       "       0.15742744, 0.08750039, 0.03249162, 0.13283279, 0.10267289])"
      ]
     },
     "metadata": {},
     "execution_count": 53
    }
   ],
   "source": [
    "imp = cls_forest.feature_importances_\n",
    "imp "
   ]
  },
  {
   "cell_type": "code",
   "execution_count": 54,
   "metadata": {},
   "outputs": [
    {
     "output_type": "execute_result",
     "data": {
      "text/plain": [
       "array(['purchase_value', 'source', 'browser', 'sex', 'age', 'ip_address',\n",
       "       'device_num_x', 'signup_day', 'signup_week', 'purchase_day',\n",
       "       'purchase_week', 'ip_num_x', 'country', 'ip_num_y'], dtype=object)"
      ]
     },
     "metadata": {},
     "execution_count": 54
    }
   ],
   "source": [
    "data.columns.values[:-1]"
   ]
  },
  {
   "cell_type": "code",
   "execution_count": 57,
   "metadata": {},
   "outputs": [
    {
     "output_type": "error",
     "ename": "NameError",
     "evalue": "name 'sns' is not defined",
     "traceback": [
      "\u001b[1;31m---------------------------------------------------------------------------\u001b[0m",
      "\u001b[1;31mNameError\u001b[0m                                 Traceback (most recent call last)",
      "\u001b[1;32m<ipython-input-57-a4305fbc22df>\u001b[0m in \u001b[0;36m<module>\u001b[1;34m\u001b[0m\n\u001b[0;32m      1\u001b[0m \u001b[0mimp\u001b[0m \u001b[1;33m=\u001b[0m \u001b[0mpd\u001b[0m\u001b[1;33m.\u001b[0m\u001b[0mDataFrame\u001b[0m\u001b[1;33m(\u001b[0m\u001b[0mcls_forest\u001b[0m\u001b[1;33m.\u001b[0m\u001b[0mfeature_importances_\u001b[0m\u001b[1;33m,\u001b[0m\u001b[0mindex\u001b[0m \u001b[1;33m=\u001b[0m \u001b[0mX_train\u001b[0m\u001b[1;33m.\u001b[0m\u001b[0mcolumns\u001b[0m\u001b[1;33m,\u001b[0m\u001b[0mcolumns\u001b[0m\u001b[1;33m=\u001b[0m\u001b[1;33m[\u001b[0m\u001b[1;34m'importance'\u001b[0m\u001b[1;33m]\u001b[0m\u001b[1;33m)\u001b[0m\u001b[1;33m.\u001b[0m\u001b[0msort_values\u001b[0m\u001b[1;33m(\u001b[0m\u001b[1;34m'importance'\u001b[0m\u001b[1;33m,\u001b[0m\u001b[0mascending\u001b[0m\u001b[1;33m=\u001b[0m\u001b[1;32mFalse\u001b[0m\u001b[1;33m)\u001b[0m\u001b[1;33m\u001b[0m\u001b[1;33m\u001b[0m\u001b[0m\n\u001b[0;32m      2\u001b[0m \u001b[1;33m\u001b[0m\u001b[0m\n\u001b[1;32m----> 3\u001b[1;33m \u001b[0msns\u001b[0m\u001b[1;33m.\u001b[0m\u001b[0mcatplot\u001b[0m\u001b[1;33m(\u001b[0m\u001b[0mx\u001b[0m\u001b[1;33m=\u001b[0m\u001b[0mimp\u001b[0m\u001b[1;33m[\u001b[0m\u001b[1;34m'importance'\u001b[0m\u001b[1;33m]\u001b[0m\u001b[1;33m,\u001b[0m \u001b[0my\u001b[0m\u001b[1;33m=\u001b[0m\u001b[0mimp\u001b[0m\u001b[1;33m[\u001b[0m\u001b[1;34m'importance'\u001b[0m\u001b[1;33m]\u001b[0m\u001b[1;33m.\u001b[0m\u001b[0mindex\u001b[0m\u001b[1;33m,\u001b[0m\u001b[0mkind\u001b[0m\u001b[1;33m=\u001b[0m\u001b[1;34m\"bar\"\u001b[0m\u001b[1;33m,\u001b[0m \u001b[0mdata\u001b[0m\u001b[1;33m=\u001b[0m\u001b[0mimp\u001b[0m\u001b[1;33m,\u001b[0m \u001b[0mheight\u001b[0m\u001b[1;33m=\u001b[0m\u001b[1;36m10\u001b[0m\u001b[1;33m)\u001b[0m\u001b[1;33m\u001b[0m\u001b[1;33m\u001b[0m\u001b[0m\n\u001b[0m",
      "\u001b[1;31mNameError\u001b[0m: name 'sns' is not defined"
     ]
    }
   ],
   "source": [
    "imp = pd.DataFrame(cls_forest.feature_importances_,index = X_train.columns,columns=['importance']).sort_values('importance',ascending=False)\n",
    "\n",
    "sns.catplot(x=imp['importance'], y=imp['importance'].index,kind=\"bar\", data=imp, height=10)"
   ]
  },
  {
   "cell_type": "code",
   "execution_count": null,
   "metadata": {},
   "outputs": [],
   "source": []
  }
 ],
 "metadata": {
  "kernelspec": {
   "name": "python388jvsc74a57bd0f047306c6d8e92a6a00e143737e5ff08c8b7fc15fba767b5c90d0bb5f4504b4a",
   "display_name": "Python 3.8.8 64-bit (windows store)"
  },
  "language_info": {
   "codemirror_mode": {
    "name": "ipython",
    "version": 3
   },
   "file_extension": ".py",
   "mimetype": "text/x-python",
   "name": "python",
   "nbconvert_exporter": "python",
   "pygments_lexer": "ipython3",
   "version": "3.8.8"
  },
  "latex_envs": {
   "LaTeX_envs_menu_present": true,
   "autoclose": false,
   "autocomplete": true,
   "bibliofile": "biblio.bib",
   "cite_by": "apalike",
   "current_citInitial": 1,
   "eqLabelWithNumbers": true,
   "eqNumInitial": 1,
   "hotkeys": {
    "equation": "Ctrl-E",
    "itemize": "Ctrl-I"
   },
   "labels_anchors": false,
   "latex_user_defs": false,
   "report_style_numbering": false,
   "user_envs_cfg": false
  },
  "toc": {
   "base_numbering": 1,
   "nav_menu": {},
   "number_sections": true,
   "sideBar": true,
   "skip_h1_title": false,
   "title_cell": "Table of Contents",
   "title_sidebar": "Contents",
   "toc_cell": false,
   "toc_position": {},
   "toc_section_display": true,
   "toc_window_display": false
  },
  "varInspector": {
   "cols": {
    "lenName": 16,
    "lenType": 16,
    "lenVar": 40
   },
   "kernels_config": {
    "python": {
     "delete_cmd_postfix": "",
     "delete_cmd_prefix": "del ",
     "library": "var_list.py",
     "varRefreshCmd": "print(var_dic_list())"
    },
    "r": {
     "delete_cmd_postfix": ") ",
     "delete_cmd_prefix": "rm(",
     "library": "var_list.r",
     "varRefreshCmd": "cat(var_dic_list()) "
    }
   },
   "types_to_exclude": [
    "module",
    "function",
    "builtin_function_or_method",
    "instance",
    "_Feature"
   ],
   "window_display": false
  },
  "metadata": {
   "interpreter": {
    "hash": "f047306c6d8e92a6a00e143737e5ff08c8b7fc15fba767b5c90d0bb5f4504b4a"
   }
  }
 },
 "nbformat": 4,
 "nbformat_minor": 2
}